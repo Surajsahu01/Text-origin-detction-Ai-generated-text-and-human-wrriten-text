{
 "cells": [
  {
   "cell_type": "code",
   "execution_count": null,
   "metadata": {
    "_cell_guid": "b1076dfc-b9ad-4769-8c92-a6c4dae69d19",
    "_uuid": "8f2839f25d086af736a60e9eeb907d3b93b6e0e5"
   },
   "outputs": [],
   "source": [
    "import pandas as pd\n",
    "import numpy as np\n",
    "import re\n",
    "from sklearn.model_selection import train_test_split\n",
    "from transformers import AutoTokenizer\n",
    "from sklearn.preprocessing import LabelEncoder\n",
    "import tensorflow as tf\n",
    "import seaborn as sns\n",
    "import matplotlib.pyplot as plt\n",
    "import tensorflow as tf\n",
    "from transformers import AutoTokenizer, TFAutoModelForSequenceClassification\n",
    "from sklearn.feature_extraction.text import TfidfVectorizer"
   ]
  },
  {
   "cell_type": "code",
   "execution_count": 3,
   "metadata": {
    "execution": {
     "iopub.execute_input": "2024-07-27T07:50:45.092439Z",
     "iopub.status.busy": "2024-07-27T07:50:45.092054Z",
     "iopub.status.idle": "2024-07-27T07:50:48.373272Z",
     "shell.execute_reply": "2024-07-27T07:50:48.372505Z",
     "shell.execute_reply.started": "2024-07-27T07:50:45.092406Z"
    }
   },
   "outputs": [],
   "source": [
    "# Load dataset\n",
    "df = pd.read_csv('/kaggle/input/preprocess-dataset/preprocessed_dataset.csv')"
   ]
  },
  {
   "cell_type": "code",
   "execution_count": 4,
   "metadata": {
    "execution": {
     "iopub.execute_input": "2024-07-27T07:50:52.121811Z",
     "iopub.status.busy": "2024-07-27T07:50:52.121482Z",
     "iopub.status.idle": "2024-07-27T07:50:52.144677Z",
     "shell.execute_reply": "2024-07-27T07:50:52.143792Z",
     "shell.execute_reply.started": "2024-07-27T07:50:52.121786Z"
    }
   },
   "outputs": [
    {
     "data": {
      "text/html": [
       "<div>\n",
       "<style scoped>\n",
       "    .dataframe tbody tr th:only-of-type {\n",
       "        vertical-align: middle;\n",
       "    }\n",
       "\n",
       "    .dataframe tbody tr th {\n",
       "        vertical-align: top;\n",
       "    }\n",
       "\n",
       "    .dataframe thead th {\n",
       "        text-align: right;\n",
       "    }\n",
       "</style>\n",
       "<table border=\"1\" class=\"dataframe\">\n",
       "  <thead>\n",
       "    <tr style=\"text-align: right;\">\n",
       "      <th></th>\n",
       "      <th>text</th>\n",
       "      <th>generated</th>\n",
       "    </tr>\n",
       "  </thead>\n",
       "  <tbody>\n",
       "    <tr>\n",
       "      <th>0</th>\n",
       "      <td>cars cars have been around since they became f...</td>\n",
       "      <td>0</td>\n",
       "    </tr>\n",
       "    <tr>\n",
       "      <th>1</th>\n",
       "      <td>transportation is a large necessity in most co...</td>\n",
       "      <td>0</td>\n",
       "    </tr>\n",
       "    <tr>\n",
       "      <th>2</th>\n",
       "      <td>americas love affair with its vehicles seems t...</td>\n",
       "      <td>0</td>\n",
       "    </tr>\n",
       "    <tr>\n",
       "      <th>3</th>\n",
       "      <td>how often do you ride in a car do you drive a ...</td>\n",
       "      <td>0</td>\n",
       "    </tr>\n",
       "    <tr>\n",
       "      <th>4</th>\n",
       "      <td>cars are a wonderful thing they are perhaps on...</td>\n",
       "      <td>0</td>\n",
       "    </tr>\n",
       "    <tr>\n",
       "      <th>...</th>\n",
       "      <td>...</td>\n",
       "      <td>...</td>\n",
       "    </tr>\n",
       "    <tr>\n",
       "      <th>66841</th>\n",
       "      <td>dear senator\\n\\ni am writing to you today to e...</td>\n",
       "      <td>1</td>\n",
       "    </tr>\n",
       "    <tr>\n",
       "      <th>66842</th>\n",
       "      <td>dear senator\\n\\ni am writing to you today to e...</td>\n",
       "      <td>1</td>\n",
       "    </tr>\n",
       "    <tr>\n",
       "      <th>66843</th>\n",
       "      <td>dear senator\\n\\ni am writing to you today to e...</td>\n",
       "      <td>1</td>\n",
       "    </tr>\n",
       "    <tr>\n",
       "      <th>66844</th>\n",
       "      <td>dear senator\\n\\ni am writing to you today to e...</td>\n",
       "      <td>1</td>\n",
       "    </tr>\n",
       "    <tr>\n",
       "      <th>66845</th>\n",
       "      <td>dear senator\\n\\ni am writing to you today to e...</td>\n",
       "      <td>1</td>\n",
       "    </tr>\n",
       "  </tbody>\n",
       "</table>\n",
       "<p>66846 rows × 2 columns</p>\n",
       "</div>"
      ],
      "text/plain": [
       "                                                    text  generated\n",
       "0      cars cars have been around since they became f...          0\n",
       "1      transportation is a large necessity in most co...          0\n",
       "2      americas love affair with its vehicles seems t...          0\n",
       "3      how often do you ride in a car do you drive a ...          0\n",
       "4      cars are a wonderful thing they are perhaps on...          0\n",
       "...                                                  ...        ...\n",
       "66841  dear senator\\n\\ni am writing to you today to e...          1\n",
       "66842  dear senator\\n\\ni am writing to you today to e...          1\n",
       "66843  dear senator\\n\\ni am writing to you today to e...          1\n",
       "66844  dear senator\\n\\ni am writing to you today to e...          1\n",
       "66845  dear senator\\n\\ni am writing to you today to e...          1\n",
       "\n",
       "[66846 rows x 2 columns]"
      ]
     },
     "execution_count": 4,
     "metadata": {},
     "output_type": "execute_result"
    }
   ],
   "source": [
    "df"
   ]
  },
  {
   "cell_type": "code",
   "execution_count": 36,
   "metadata": {
    "execution": {
     "iopub.execute_input": "2024-07-14T18:03:48.000298Z",
     "iopub.status.busy": "2024-07-14T18:03:47.999598Z",
     "iopub.status.idle": "2024-07-14T18:03:48.004879Z",
     "shell.execute_reply": "2024-07-14T18:03:48.003953Z",
     "shell.execute_reply.started": "2024-07-14T18:03:48.000263Z"
    }
   },
   "outputs": [],
   "source": [
    "# df = df.iloc[:15000]"
   ]
  },
  {
   "cell_type": "code",
   "execution_count": 5,
   "metadata": {
    "execution": {
     "iopub.execute_input": "2024-07-27T07:51:16.972237Z",
     "iopub.status.busy": "2024-07-27T07:51:16.971638Z",
     "iopub.status.idle": "2024-07-27T07:51:16.978259Z",
     "shell.execute_reply": "2024-07-27T07:51:16.977271Z",
     "shell.execute_reply.started": "2024-07-27T07:51:16.972205Z"
    }
   },
   "outputs": [
    {
     "data": {
      "text/plain": [
       "(66846, 2)"
      ]
     },
     "execution_count": 5,
     "metadata": {},
     "output_type": "execute_result"
    }
   ],
   "source": [
    "df.shape"
   ]
  },
  {
   "cell_type": "code",
   "execution_count": 9,
   "metadata": {
    "execution": {
     "iopub.execute_input": "2024-07-27T02:54:52.196097Z",
     "iopub.status.busy": "2024-07-27T02:54:52.195369Z",
     "iopub.status.idle": "2024-07-27T02:54:52.218847Z",
     "shell.execute_reply": "2024-07-27T02:54:52.218004Z",
     "shell.execute_reply.started": "2024-07-27T02:54:52.196064Z"
    }
   },
   "outputs": [],
   "source": [
    "# df.drop(columns=['Unnamed: 0'],inplace=True)"
   ]
  },
  {
   "cell_type": "code",
   "execution_count": 6,
   "metadata": {
    "execution": {
     "iopub.execute_input": "2024-07-27T07:51:25.791743Z",
     "iopub.status.busy": "2024-07-27T07:51:25.791153Z",
     "iopub.status.idle": "2024-07-27T07:51:25.800565Z",
     "shell.execute_reply": "2024-07-27T07:51:25.799616Z",
     "shell.execute_reply.started": "2024-07-27T07:51:25.791713Z"
    }
   },
   "outputs": [
    {
     "data": {
      "text/html": [
       "<div>\n",
       "<style scoped>\n",
       "    .dataframe tbody tr th:only-of-type {\n",
       "        vertical-align: middle;\n",
       "    }\n",
       "\n",
       "    .dataframe tbody tr th {\n",
       "        vertical-align: top;\n",
       "    }\n",
       "\n",
       "    .dataframe thead th {\n",
       "        text-align: right;\n",
       "    }\n",
       "</style>\n",
       "<table border=\"1\" class=\"dataframe\">\n",
       "  <thead>\n",
       "    <tr style=\"text-align: right;\">\n",
       "      <th></th>\n",
       "      <th>text</th>\n",
       "      <th>generated</th>\n",
       "    </tr>\n",
       "  </thead>\n",
       "  <tbody>\n",
       "    <tr>\n",
       "      <th>0</th>\n",
       "      <td>cars cars have been around since they became f...</td>\n",
       "      <td>0</td>\n",
       "    </tr>\n",
       "    <tr>\n",
       "      <th>1</th>\n",
       "      <td>transportation is a large necessity in most co...</td>\n",
       "      <td>0</td>\n",
       "    </tr>\n",
       "    <tr>\n",
       "      <th>2</th>\n",
       "      <td>americas love affair with its vehicles seems t...</td>\n",
       "      <td>0</td>\n",
       "    </tr>\n",
       "    <tr>\n",
       "      <th>3</th>\n",
       "      <td>how often do you ride in a car do you drive a ...</td>\n",
       "      <td>0</td>\n",
       "    </tr>\n",
       "    <tr>\n",
       "      <th>4</th>\n",
       "      <td>cars are a wonderful thing they are perhaps on...</td>\n",
       "      <td>0</td>\n",
       "    </tr>\n",
       "  </tbody>\n",
       "</table>\n",
       "</div>"
      ],
      "text/plain": [
       "                                                text  generated\n",
       "0  cars cars have been around since they became f...          0\n",
       "1  transportation is a large necessity in most co...          0\n",
       "2  americas love affair with its vehicles seems t...          0\n",
       "3  how often do you ride in a car do you drive a ...          0\n",
       "4  cars are a wonderful thing they are perhaps on...          0"
      ]
     },
     "execution_count": 6,
     "metadata": {},
     "output_type": "execute_result"
    }
   ],
   "source": [
    "df.head()"
   ]
  },
  {
   "cell_type": "code",
   "execution_count": 9,
   "metadata": {
    "execution": {
     "iopub.execute_input": "2024-07-27T07:52:14.141939Z",
     "iopub.status.busy": "2024-07-27T07:52:14.141587Z",
     "iopub.status.idle": "2024-07-27T07:52:14.156396Z",
     "shell.execute_reply": "2024-07-27T07:52:14.155390Z",
     "shell.execute_reply.started": "2024-07-27T07:52:14.141910Z"
    }
   },
   "outputs": [
    {
     "data": {
      "text/html": [
       "<div>\n",
       "<style scoped>\n",
       "    .dataframe tbody tr th:only-of-type {\n",
       "        vertical-align: middle;\n",
       "    }\n",
       "\n",
       "    .dataframe tbody tr th {\n",
       "        vertical-align: top;\n",
       "    }\n",
       "\n",
       "    .dataframe thead th {\n",
       "        text-align: right;\n",
       "    }\n",
       "</style>\n",
       "<table border=\"1\" class=\"dataframe\">\n",
       "  <thead>\n",
       "    <tr style=\"text-align: right;\">\n",
       "      <th></th>\n",
       "      <th>text</th>\n",
       "      <th>label</th>\n",
       "    </tr>\n",
       "  </thead>\n",
       "  <tbody>\n",
       "    <tr>\n",
       "      <th>0</th>\n",
       "      <td>cars cars have been around since they became f...</td>\n",
       "      <td>0</td>\n",
       "    </tr>\n",
       "    <tr>\n",
       "      <th>1</th>\n",
       "      <td>transportation is a large necessity in most co...</td>\n",
       "      <td>0</td>\n",
       "    </tr>\n",
       "    <tr>\n",
       "      <th>2</th>\n",
       "      <td>americas love affair with its vehicles seems t...</td>\n",
       "      <td>0</td>\n",
       "    </tr>\n",
       "    <tr>\n",
       "      <th>3</th>\n",
       "      <td>how often do you ride in a car do you drive a ...</td>\n",
       "      <td>0</td>\n",
       "    </tr>\n",
       "    <tr>\n",
       "      <th>4</th>\n",
       "      <td>cars are a wonderful thing they are perhaps on...</td>\n",
       "      <td>0</td>\n",
       "    </tr>\n",
       "    <tr>\n",
       "      <th>...</th>\n",
       "      <td>...</td>\n",
       "      <td>...</td>\n",
       "    </tr>\n",
       "    <tr>\n",
       "      <th>66841</th>\n",
       "      <td>dear senator\\n\\ni am writing to you today to e...</td>\n",
       "      <td>1</td>\n",
       "    </tr>\n",
       "    <tr>\n",
       "      <th>66842</th>\n",
       "      <td>dear senator\\n\\ni am writing to you today to e...</td>\n",
       "      <td>1</td>\n",
       "    </tr>\n",
       "    <tr>\n",
       "      <th>66843</th>\n",
       "      <td>dear senator\\n\\ni am writing to you today to e...</td>\n",
       "      <td>1</td>\n",
       "    </tr>\n",
       "    <tr>\n",
       "      <th>66844</th>\n",
       "      <td>dear senator\\n\\ni am writing to you today to e...</td>\n",
       "      <td>1</td>\n",
       "    </tr>\n",
       "    <tr>\n",
       "      <th>66845</th>\n",
       "      <td>dear senator\\n\\ni am writing to you today to e...</td>\n",
       "      <td>1</td>\n",
       "    </tr>\n",
       "  </tbody>\n",
       "</table>\n",
       "<p>66846 rows × 2 columns</p>\n",
       "</div>"
      ],
      "text/plain": [
       "                                                    text  label\n",
       "0      cars cars have been around since they became f...      0\n",
       "1      transportation is a large necessity in most co...      0\n",
       "2      americas love affair with its vehicles seems t...      0\n",
       "3      how often do you ride in a car do you drive a ...      0\n",
       "4      cars are a wonderful thing they are perhaps on...      0\n",
       "...                                                  ...    ...\n",
       "66841  dear senator\\n\\ni am writing to you today to e...      1\n",
       "66842  dear senator\\n\\ni am writing to you today to e...      1\n",
       "66843  dear senator\\n\\ni am writing to you today to e...      1\n",
       "66844  dear senator\\n\\ni am writing to you today to e...      1\n",
       "66845  dear senator\\n\\ni am writing to you today to e...      1\n",
       "\n",
       "[66846 rows x 2 columns]"
      ]
     },
     "execution_count": 9,
     "metadata": {},
     "output_type": "execute_result"
    }
   ],
   "source": [
    "# renaming the cols\n",
    "df.rename(columns={'generated':'label'},inplace=True)\n",
    "df"
   ]
  },
  {
   "cell_type": "code",
   "execution_count": 8,
   "metadata": {
    "execution": {
     "iopub.execute_input": "2024-07-27T07:51:41.907639Z",
     "iopub.status.busy": "2024-07-27T07:51:41.907260Z",
     "iopub.status.idle": "2024-07-27T07:51:41.911468Z",
     "shell.execute_reply": "2024-07-27T07:51:41.910541Z",
     "shell.execute_reply.started": "2024-07-27T07:51:41.907612Z"
    }
   },
   "outputs": [],
   "source": [
    "# from sklearn.preprocessing import LabelEncoder\n",
    "# encoder = LabelEncoder()"
   ]
  },
  {
   "cell_type": "code",
   "execution_count": 14,
   "metadata": {
    "execution": {
     "iopub.execute_input": "2024-07-27T02:55:19.914936Z",
     "iopub.status.busy": "2024-07-27T02:55:19.914566Z",
     "iopub.status.idle": "2024-07-27T02:55:19.990808Z",
     "shell.execute_reply": "2024-07-27T02:55:19.989923Z",
     "shell.execute_reply.started": "2024-07-27T02:55:19.914906Z"
    }
   },
   "outputs": [],
   "source": [
    "# df['label'] = encoder.fit_transform(df['label'])"
   ]
  },
  {
   "cell_type": "code",
   "execution_count": 15,
   "metadata": {
    "execution": {
     "iopub.execute_input": "2024-07-27T02:55:22.675323Z",
     "iopub.status.busy": "2024-07-27T02:55:22.674822Z",
     "iopub.status.idle": "2024-07-27T02:55:22.693284Z",
     "shell.execute_reply": "2024-07-27T02:55:22.692354Z",
     "shell.execute_reply.started": "2024-07-27T02:55:22.675281Z"
    }
   },
   "outputs": [
    {
     "data": {
      "text/html": [
       "<div>\n",
       "<style scoped>\n",
       "    .dataframe tbody tr th:only-of-type {\n",
       "        vertical-align: middle;\n",
       "    }\n",
       "\n",
       "    .dataframe tbody tr th {\n",
       "        vertical-align: top;\n",
       "    }\n",
       "\n",
       "    .dataframe thead th {\n",
       "        text-align: right;\n",
       "    }\n",
       "</style>\n",
       "<table border=\"1\" class=\"dataframe\">\n",
       "  <thead>\n",
       "    <tr style=\"text-align: right;\">\n",
       "      <th></th>\n",
       "      <th>text</th>\n",
       "      <th>label</th>\n",
       "    </tr>\n",
       "  </thead>\n",
       "  <tbody>\n",
       "    <tr>\n",
       "      <th>0</th>\n",
       "      <td>Sekhukhune I (Matsebe; circa 1814 – 13 Septemb...</td>\n",
       "      <td>0</td>\n",
       "    </tr>\n",
       "    <tr>\n",
       "      <th>1</th>\n",
       "      <td>Mount Washington is a  peak in the White Mount...</td>\n",
       "      <td>0</td>\n",
       "    </tr>\n",
       "    <tr>\n",
       "      <th>2</th>\n",
       "      <td>Acer hillsi is an extinct maple species that w...</td>\n",
       "      <td>0</td>\n",
       "    </tr>\n",
       "    <tr>\n",
       "      <th>3</th>\n",
       "      <td>Derrick George Sherwin (16 April 1936 – 17 Oct...</td>\n",
       "      <td>1</td>\n",
       "    </tr>\n",
       "    <tr>\n",
       "      <th>4</th>\n",
       "      <td>The Windows shell is the graphical user interf...</td>\n",
       "      <td>1</td>\n",
       "    </tr>\n",
       "    <tr>\n",
       "      <th>...</th>\n",
       "      <td>...</td>\n",
       "      <td>...</td>\n",
       "    </tr>\n",
       "    <tr>\n",
       "      <th>299995</th>\n",
       "      <td>OutServe Magazine was a bi-monthly digital and...</td>\n",
       "      <td>0</td>\n",
       "    </tr>\n",
       "    <tr>\n",
       "      <th>299996</th>\n",
       "      <td>Eastern Armenia ( Arevelyan Hayastan) is the e...</td>\n",
       "      <td>1</td>\n",
       "    </tr>\n",
       "    <tr>\n",
       "      <th>299997</th>\n",
       "      <td>Infinity Group is a private equity fund manage...</td>\n",
       "      <td>0</td>\n",
       "    </tr>\n",
       "    <tr>\n",
       "      <th>299998</th>\n",
       "      <td>Kattinakere (ಕಟ್ಟಿನಕೆರೆ) also called B Sagadde...</td>\n",
       "      <td>0</td>\n",
       "    </tr>\n",
       "    <tr>\n",
       "      <th>299999</th>\n",
       "      <td>Wei Yan  (died 234), courtesy name Jiaji, was ...</td>\n",
       "      <td>0</td>\n",
       "    </tr>\n",
       "  </tbody>\n",
       "</table>\n",
       "<p>300000 rows × 2 columns</p>\n",
       "</div>"
      ],
      "text/plain": [
       "                                                     text  label\n",
       "0       Sekhukhune I (Matsebe; circa 1814 – 13 Septemb...      0\n",
       "1       Mount Washington is a  peak in the White Mount...      0\n",
       "2       Acer hillsi is an extinct maple species that w...      0\n",
       "3       Derrick George Sherwin (16 April 1936 – 17 Oct...      1\n",
       "4       The Windows shell is the graphical user interf...      1\n",
       "...                                                   ...    ...\n",
       "299995  OutServe Magazine was a bi-monthly digital and...      0\n",
       "299996  Eastern Armenia ( Arevelyan Hayastan) is the e...      1\n",
       "299997  Infinity Group is a private equity fund manage...      0\n",
       "299998  Kattinakere (ಕಟ್ಟಿನಕೆರೆ) also called B Sagadde...      0\n",
       "299999  Wei Yan  (died 234), courtesy name Jiaji, was ...      0\n",
       "\n",
       "[300000 rows x 2 columns]"
      ]
     },
     "execution_count": 15,
     "metadata": {},
     "output_type": "execute_result"
    }
   ],
   "source": [
    "# df"
   ]
  },
  {
   "cell_type": "code",
   "execution_count": 10,
   "metadata": {
    "execution": {
     "iopub.execute_input": "2024-07-27T07:52:24.951919Z",
     "iopub.status.busy": "2024-07-27T07:52:24.951569Z",
     "iopub.status.idle": "2024-07-27T07:52:24.971569Z",
     "shell.execute_reply": "2024-07-27T07:52:24.970495Z",
     "shell.execute_reply.started": "2024-07-27T07:52:24.951889Z"
    }
   },
   "outputs": [
    {
     "data": {
      "text/plain": [
       "text     1\n",
       "label    0\n",
       "dtype: int64"
      ]
     },
     "execution_count": 10,
     "metadata": {},
     "output_type": "execute_result"
    }
   ],
   "source": [
    "# missing values\n",
    "df.isnull().sum()"
   ]
  },
  {
   "cell_type": "code",
   "execution_count": 11,
   "metadata": {
    "execution": {
     "iopub.execute_input": "2024-07-27T07:52:27.491926Z",
     "iopub.status.busy": "2024-07-27T07:52:27.491570Z",
     "iopub.status.idle": "2024-07-27T07:52:27.609386Z",
     "shell.execute_reply": "2024-07-27T07:52:27.608361Z",
     "shell.execute_reply.started": "2024-07-27T07:52:27.491899Z"
    }
   },
   "outputs": [
    {
     "data": {
      "text/plain": [
       "28"
      ]
     },
     "execution_count": 11,
     "metadata": {},
     "output_type": "execute_result"
    }
   ],
   "source": [
    "# check for duplicate values\n",
    "df.duplicated().sum()"
   ]
  },
  {
   "cell_type": "code",
   "execution_count": 12,
   "metadata": {
    "execution": {
     "iopub.execute_input": "2024-07-27T07:52:29.991757Z",
     "iopub.status.busy": "2024-07-27T07:52:29.991420Z",
     "iopub.status.idle": "2024-07-27T07:52:30.022034Z",
     "shell.execute_reply": "2024-07-27T07:52:30.021158Z",
     "shell.execute_reply.started": "2024-07-27T07:52:29.991730Z"
    }
   },
   "outputs": [],
   "source": [
    "# remove duplicates\n",
    "df = df.drop_duplicates(keep='first')"
   ]
  },
  {
   "cell_type": "code",
   "execution_count": 13,
   "metadata": {
    "execution": {
     "iopub.execute_input": "2024-07-27T07:52:32.471850Z",
     "iopub.status.busy": "2024-07-27T07:52:32.471246Z",
     "iopub.status.idle": "2024-07-27T07:52:32.505154Z",
     "shell.execute_reply": "2024-07-27T07:52:32.504265Z",
     "shell.execute_reply.started": "2024-07-27T07:52:32.471818Z"
    }
   },
   "outputs": [
    {
     "data": {
      "text/plain": [
       "0"
      ]
     },
     "execution_count": 13,
     "metadata": {},
     "output_type": "execute_result"
    }
   ],
   "source": [
    "df.duplicated().sum()"
   ]
  },
  {
   "cell_type": "code",
   "execution_count": 14,
   "metadata": {
    "execution": {
     "iopub.execute_input": "2024-07-27T07:52:34.411703Z",
     "iopub.status.busy": "2024-07-27T07:52:34.411299Z",
     "iopub.status.idle": "2024-07-27T07:52:34.433955Z",
     "shell.execute_reply": "2024-07-27T07:52:34.432909Z",
     "shell.execute_reply.started": "2024-07-27T07:52:34.411674Z"
    }
   },
   "outputs": [],
   "source": [
    "df = df.dropna()"
   ]
  },
  {
   "cell_type": "code",
   "execution_count": 15,
   "metadata": {
    "execution": {
     "iopub.execute_input": "2024-07-27T07:52:36.472491Z",
     "iopub.status.busy": "2024-07-27T07:52:36.471515Z",
     "iopub.status.idle": "2024-07-27T07:52:36.490701Z",
     "shell.execute_reply": "2024-07-27T07:52:36.489802Z",
     "shell.execute_reply.started": "2024-07-27T07:52:36.472448Z"
    }
   },
   "outputs": [
    {
     "data": {
      "text/plain": [
       "text     0\n",
       "label    0\n",
       "dtype: int64"
      ]
     },
     "execution_count": 15,
     "metadata": {},
     "output_type": "execute_result"
    }
   ],
   "source": [
    "df.isnull().sum()"
   ]
  },
  {
   "cell_type": "code",
   "execution_count": 16,
   "metadata": {
    "execution": {
     "iopub.execute_input": "2024-07-27T07:52:39.851725Z",
     "iopub.status.busy": "2024-07-27T07:52:39.851306Z",
     "iopub.status.idle": "2024-07-27T07:52:39.864380Z",
     "shell.execute_reply": "2024-07-27T07:52:39.863480Z",
     "shell.execute_reply.started": "2024-07-27T07:52:39.851696Z"
    }
   },
   "outputs": [
    {
     "data": {
      "text/plain": [
       "label\n",
       "0    41229\n",
       "1    25588\n",
       "Name: count, dtype: int64"
      ]
     },
     "execution_count": 16,
     "metadata": {},
     "output_type": "execute_result"
    }
   ],
   "source": [
    "df['label'].value_counts()"
   ]
  },
  {
   "cell_type": "code",
   "execution_count": 40,
   "metadata": {
    "execution": {
     "iopub.execute_input": "2024-07-24T15:40:53.611677Z",
     "iopub.status.busy": "2024-07-24T15:40:53.610680Z",
     "iopub.status.idle": "2024-07-24T15:40:53.615931Z",
     "shell.execute_reply": "2024-07-24T15:40:53.614934Z",
     "shell.execute_reply.started": "2024-07-24T15:40:53.611647Z"
    }
   },
   "outputs": [],
   "source": [
    "# df = df.iloc[:100000]"
   ]
  },
  {
   "cell_type": "code",
   "execution_count": 41,
   "metadata": {
    "execution": {
     "iopub.execute_input": "2024-07-24T15:40:54.890539Z",
     "iopub.status.busy": "2024-07-24T15:40:54.890180Z",
     "iopub.status.idle": "2024-07-24T15:40:54.898129Z",
     "shell.execute_reply": "2024-07-24T15:40:54.897224Z",
     "shell.execute_reply.started": "2024-07-24T15:40:54.890512Z"
    }
   },
   "outputs": [
    {
     "data": {
      "text/html": [
       "<div>\n",
       "<style scoped>\n",
       "    .dataframe tbody tr th:only-of-type {\n",
       "        vertical-align: middle;\n",
       "    }\n",
       "\n",
       "    .dataframe tbody tr th {\n",
       "        vertical-align: top;\n",
       "    }\n",
       "\n",
       "    .dataframe thead th {\n",
       "        text-align: right;\n",
       "    }\n",
       "</style>\n",
       "<table border=\"1\" class=\"dataframe\">\n",
       "  <thead>\n",
       "    <tr style=\"text-align: right;\">\n",
       "      <th></th>\n",
       "      <th>text</th>\n",
       "      <th>label</th>\n",
       "    </tr>\n",
       "  </thead>\n",
       "  <tbody>\n",
       "  </tbody>\n",
       "</table>\n",
       "</div>"
      ],
      "text/plain": [
       "Empty DataFrame\n",
       "Columns: [text, label]\n",
       "Index: []"
      ]
     },
     "execution_count": 41,
     "metadata": {},
     "output_type": "execute_result"
    }
   ],
   "source": [
    "# df"
   ]
  },
  {
   "cell_type": "code",
   "execution_count": 17,
   "metadata": {
    "execution": {
     "iopub.execute_input": "2024-07-27T07:53:00.332370Z",
     "iopub.status.busy": "2024-07-27T07:53:00.331997Z",
     "iopub.status.idle": "2024-07-27T07:53:00.451462Z",
     "shell.execute_reply": "2024-07-27T07:53:00.450262Z",
     "shell.execute_reply.started": "2024-07-27T07:53:00.332340Z"
    }
   },
   "outputs": [
    {
     "data": {
      "image/png": "[encoded data removed]",
      "text/plain": [
       "<Figure size 640x480 with 1 Axes>"
      ]
     },
     "metadata": {},
     "output_type": "display_data"
    }
   ],
   "source": [
    "import matplotlib.pyplot as plt\n",
    "plt.pie(df['label'].value_counts(), labels=['Human','AI'],autopct=\"%0.2f\")\n",
    "plt.show()"
   ]
  },
  {
   "cell_type": "code",
   "execution_count": 19,
   "metadata": {
    "execution": {
     "iopub.execute_input": "2024-07-27T07:54:13.712996Z",
     "iopub.status.busy": "2024-07-27T07:54:13.711840Z",
     "iopub.status.idle": "2024-07-27T07:54:13.718271Z",
     "shell.execute_reply": "2024-07-27T07:54:13.717360Z",
     "shell.execute_reply.started": "2024-07-27T07:54:13.712957Z"
    }
   },
   "outputs": [],
   "source": [
    "def clean_text(text):\n",
    "    # Handle potential non-string values\n",
    "    if not isinstance(text, str):\n",
    "        text = str(text)  # Convert non-string values to strings\n",
    "\n",
    "    text = re.sub(r'http\\S+', '', text)  # Remove URLs\n",
    "    text = re.sub(r'\\s+', ' ', text)  # Remove extra spaces\n",
    "    text = re.sub(r'[^\\w\\s]', '', text)  # Remove punctuation\n",
    "    text = text.lower()  # Convert to lowercase\n",
    "    return text"
   ]
  },
  {
   "cell_type": "code",
   "execution_count": 20,
   "metadata": {
    "execution": {
     "iopub.execute_input": "2024-07-27T07:54:18.312056Z",
     "iopub.status.busy": "2024-07-27T07:54:18.311226Z",
     "iopub.status.idle": "2024-07-27T07:54:33.519168Z",
     "shell.execute_reply": "2024-07-27T07:54:33.518371Z",
     "shell.execute_reply.started": "2024-07-27T07:54:18.312022Z"
    }
   },
   "outputs": [],
   "source": [
    "# Apply cleaning function to the text column\n",
    "df['cleaned_text'] = df['text'].apply(clean_text)"
   ]
  },
  {
   "cell_type": "code",
   "execution_count": 21,
   "metadata": {
    "execution": {
     "iopub.execute_input": "2024-07-27T07:54:33.521586Z",
     "iopub.status.busy": "2024-07-27T07:54:33.521121Z",
     "iopub.status.idle": "2024-07-27T07:54:33.533146Z",
     "shell.execute_reply": "2024-07-27T07:54:33.532209Z",
     "shell.execute_reply.started": "2024-07-27T07:54:33.521553Z"
    }
   },
   "outputs": [
    {
     "data": {
      "text/html": [
       "<div>\n",
       "<style scoped>\n",
       "    .dataframe tbody tr th:only-of-type {\n",
       "        vertical-align: middle;\n",
       "    }\n",
       "\n",
       "    .dataframe tbody tr th {\n",
       "        vertical-align: top;\n",
       "    }\n",
       "\n",
       "    .dataframe thead th {\n",
       "        text-align: right;\n",
       "    }\n",
       "</style>\n",
       "<table border=\"1\" class=\"dataframe\">\n",
       "  <thead>\n",
       "    <tr style=\"text-align: right;\">\n",
       "      <th></th>\n",
       "      <th>text</th>\n",
       "      <th>label</th>\n",
       "      <th>cleaned_text</th>\n",
       "    </tr>\n",
       "  </thead>\n",
       "  <tbody>\n",
       "    <tr>\n",
       "      <th>0</th>\n",
       "      <td>cars cars have been around since they became f...</td>\n",
       "      <td>0</td>\n",
       "      <td>cars cars have been around since they became f...</td>\n",
       "    </tr>\n",
       "    <tr>\n",
       "      <th>1</th>\n",
       "      <td>transportation is a large necessity in most co...</td>\n",
       "      <td>0</td>\n",
       "      <td>transportation is a large necessity in most co...</td>\n",
       "    </tr>\n",
       "    <tr>\n",
       "      <th>2</th>\n",
       "      <td>americas love affair with its vehicles seems t...</td>\n",
       "      <td>0</td>\n",
       "      <td>americas love affair with its vehicles seems t...</td>\n",
       "    </tr>\n",
       "    <tr>\n",
       "      <th>3</th>\n",
       "      <td>how often do you ride in a car do you drive a ...</td>\n",
       "      <td>0</td>\n",
       "      <td>how often do you ride in a car do you drive a ...</td>\n",
       "    </tr>\n",
       "    <tr>\n",
       "      <th>4</th>\n",
       "      <td>cars are a wonderful thing they are perhaps on...</td>\n",
       "      <td>0</td>\n",
       "      <td>cars are a wonderful thing they are perhaps on...</td>\n",
       "    </tr>\n",
       "    <tr>\n",
       "      <th>5</th>\n",
       "      <td>the electrol college system is an unfair syste...</td>\n",
       "      <td>0</td>\n",
       "      <td>the electrol college system is an unfair syste...</td>\n",
       "    </tr>\n",
       "    <tr>\n",
       "      <th>6</th>\n",
       "      <td>dear state senator it is the utmost respect th...</td>\n",
       "      <td>0</td>\n",
       "      <td>dear state senator it is the utmost respect th...</td>\n",
       "    </tr>\n",
       "    <tr>\n",
       "      <th>7</th>\n",
       "      <td>fellow citizens cars have become a major role ...</td>\n",
       "      <td>0</td>\n",
       "      <td>fellow citizens cars have become a major role ...</td>\n",
       "    </tr>\n",
       "    <tr>\n",
       "      <th>8</th>\n",
       "      <td>its official the electoral college is unfair o...</td>\n",
       "      <td>0</td>\n",
       "      <td>its official the electoral college is unfair o...</td>\n",
       "    </tr>\n",
       "    <tr>\n",
       "      <th>9</th>\n",
       "      <td>the electoral college has been kept for centur...</td>\n",
       "      <td>0</td>\n",
       "      <td>the electoral college has been kept for centur...</td>\n",
       "    </tr>\n",
       "  </tbody>\n",
       "</table>\n",
       "</div>"
      ],
      "text/plain": [
       "                                                text  label  \\\n",
       "0  cars cars have been around since they became f...      0   \n",
       "1  transportation is a large necessity in most co...      0   \n",
       "2  americas love affair with its vehicles seems t...      0   \n",
       "3  how often do you ride in a car do you drive a ...      0   \n",
       "4  cars are a wonderful thing they are perhaps on...      0   \n",
       "5  the electrol college system is an unfair syste...      0   \n",
       "6  dear state senator it is the utmost respect th...      0   \n",
       "7  fellow citizens cars have become a major role ...      0   \n",
       "8  its official the electoral college is unfair o...      0   \n",
       "9  the electoral college has been kept for centur...      0   \n",
       "\n",
       "                                        cleaned_text  \n",
       "0  cars cars have been around since they became f...  \n",
       "1  transportation is a large necessity in most co...  \n",
       "2  americas love affair with its vehicles seems t...  \n",
       "3  how often do you ride in a car do you drive a ...  \n",
       "4  cars are a wonderful thing they are perhaps on...  \n",
       "5  the electrol college system is an unfair syste...  \n",
       "6  dear state senator it is the utmost respect th...  \n",
       "7  fellow citizens cars have become a major role ...  \n",
       "8  its official the electoral college is unfair o...  \n",
       "9  the electoral college has been kept for centur...  "
      ]
     },
     "execution_count": 21,
     "metadata": {},
     "output_type": "execute_result"
    }
   ],
   "source": [
    "df.head(10)"
   ]
  },
  {
   "cell_type": "code",
   "execution_count": 22,
   "metadata": {
    "execution": {
     "iopub.execute_input": "2024-07-27T07:54:44.332670Z",
     "iopub.status.busy": "2024-07-27T07:54:44.331951Z",
     "iopub.status.idle": "2024-07-27T07:54:44.347714Z",
     "shell.execute_reply": "2024-07-27T07:54:44.346636Z",
     "shell.execute_reply.started": "2024-07-27T07:54:44.332639Z"
    }
   },
   "outputs": [],
   "source": [
    "# Split the dataset\n",
    "X_train, X_test, y_train, y_test = train_test_split(df['cleaned_text'], df['label'], test_size=0.2, random_state=42)"
   ]
  },
  {
   "cell_type": "code",
   "execution_count": 23,
   "metadata": {
    "execution": {
     "iopub.execute_input": "2024-07-27T07:55:02.198194Z",
     "iopub.status.busy": "2024-07-27T07:55:02.197096Z",
     "iopub.status.idle": "2024-07-27T07:55:02.203841Z",
     "shell.execute_reply": "2024-07-27T07:55:02.202938Z",
     "shell.execute_reply.started": "2024-07-27T07:55:02.198134Z"
    }
   },
   "outputs": [
    {
     "name": "stdout",
     "output_type": "stream",
     "text": [
      "(53453,)\n",
      "(53453,)\n",
      "(13364,)\n",
      "(13364,)\n"
     ]
    }
   ],
   "source": [
    "print(X_train.shape)\n",
    "print(y_train.shape)\n",
    "print(X_test.shape)\n",
    "print(X_test.shape)"
   ]
  },
  {
   "cell_type": "code",
   "execution_count": null,
   "metadata": {},
   "outputs": [],
   "source": []
  },
  {
   "cell_type": "code",
   "execution_count": 48,
   "metadata": {
    "execution": {
     "iopub.execute_input": "2024-07-14T18:03:49.911121Z",
     "iopub.status.busy": "2024-07-14T18:03:49.910281Z",
     "iopub.status.idle": "2024-07-14T18:03:49.915278Z",
     "shell.execute_reply": "2024-07-14T18:03:49.914440Z",
     "shell.execute_reply.started": "2024-07-14T18:03:49.911089Z"
    }
   },
   "outputs": [],
   "source": [
    "# Initialize TF-IDF vectorizer\n",
    "tfidf_vectorizer = TfidfVectorizer(max_features=3000)  # Adjust max_features as needed"
   ]
  },
  {
   "cell_type": "code",
   "execution_count": 49,
   "metadata": {
    "execution": {
     "iopub.execute_input": "2024-07-14T18:03:51.290395Z",
     "iopub.status.busy": "2024-07-14T18:03:51.290012Z",
     "iopub.status.idle": "2024-07-14T18:03:51.296833Z",
     "shell.execute_reply": "2024-07-14T18:03:51.295827Z",
     "shell.execute_reply.started": "2024-07-14T18:03:51.290367Z"
    }
   },
   "outputs": [],
   "source": [
    "# Data cleaning and tokenization function\n",
    "def clean_and_tokenize(text):\n",
    "    if not isinstance(text, str):\n",
    "        text = str(text)  \n",
    "    text = re.sub(r'http\\S+', '', text)  # Remove URLs\n",
    "    text = re.sub(r'\\s+', ' ', text)  # Remove extra spaces\n",
    "    text = re.sub(r'[^\\w\\s]', '', text)  # Remove punctuation\n",
    "    text = text.lower()  # Convert to lowercase\n",
    "    tokens = tfidf_vectorizer.build_analyzer()(text)  # Tokenize using TF-IDF vectorizer\n",
    "    return ' '.join(tokens)  # Join tokens into a single string"
   ]
  },
  {
   "cell_type": "code",
   "execution_count": 50,
   "metadata": {
    "execution": {
     "iopub.execute_input": "2024-07-14T18:03:52.095816Z",
     "iopub.status.busy": "2024-07-14T18:03:52.095430Z",
     "iopub.status.idle": "2024-07-14T18:03:55.499111Z",
     "shell.execute_reply": "2024-07-14T18:03:55.498040Z",
     "shell.execute_reply.started": "2024-07-14T18:03:52.095786Z"
    }
   },
   "outputs": [],
   "source": [
    "# Apply cleaning and tokenization function to the text column\n",
    "df['cleaned_text'] = df['text'].apply(clean_and_tokenize)"
   ]
  },
  {
   "cell_type": "code",
   "execution_count": 51,
   "metadata": {
    "execution": {
     "iopub.execute_input": "2024-07-14T18:03:55.503060Z",
     "iopub.status.busy": "2024-07-14T18:03:55.502776Z",
     "iopub.status.idle": "2024-07-14T18:03:55.513052Z",
     "shell.execute_reply": "2024-07-14T18:03:55.511897Z",
     "shell.execute_reply.started": "2024-07-14T18:03:55.503035Z"
    }
   },
   "outputs": [],
   "source": [
    "# Split the dataset\n",
    "X_train, X_test, y_train, y_test = train_test_split(df['cleaned_text'], df['label'], test_size=0.2, random_state=42)"
   ]
  },
  {
   "cell_type": "code",
   "execution_count": 52,
   "metadata": {
    "execution": {
     "iopub.execute_input": "2024-07-14T18:03:55.515418Z",
     "iopub.status.busy": "2024-07-14T18:03:55.514998Z",
     "iopub.status.idle": "2024-07-14T18:03:55.532584Z",
     "shell.execute_reply": "2024-07-14T18:03:55.531564Z",
     "shell.execute_reply.started": "2024-07-14T18:03:55.515365Z"
    }
   },
   "outputs": [
    {
     "name": "stdout",
     "output_type": "stream",
     "text": [
      "(12000,)\n",
      "(3000,)\n",
      "(12000,)\n",
      "(3000,)\n"
     ]
    }
   ],
   "source": [
    "print(X_train.shape)\n",
    "print(X_test.shape)\n",
    "print(y_train.shape)\n",
    "print(y_test.shape)"
   ]
  },
  {
   "cell_type": "code",
   "execution_count": null,
   "metadata": {},
   "outputs": [],
   "source": [
    "# Fit and transform on training data\n",
    "X_train_tfidf = tfidf_vectorizer.fit_transform(X_train)\n",
    "\n",
    "# Transform test data\n",
    "X_test_tfidf = tfidf_vectorizer.transform(X_test)"
   ]
  },
  {
   "cell_type": "code",
   "execution_count": null,
   "metadata": {},
   "outputs": [],
   "source": [
    "X_train_tfidf"
   ]
  },
  {
   "cell_type": "code",
   "execution_count": null,
   "metadata": {},
   "outputs": [],
   "source": [
    "X_test_tfidf "
   ]
  },
  {
   "cell_type": "code",
   "execution_count": null,
   "metadata": {},
   "outputs": [],
   "source": [
    "from sklearn.metrics import accuracy_score, precision_score, recall_score, f1_score"
   ]
  },
  {
   "cell_type": "code",
   "execution_count": null,
   "metadata": {},
   "outputs": [],
   "source": [
    "from sklearn.linear_model import LogisticRegression\n",
    "from sklearn.metrics import accuracy_score, classification_report,confusion_matrix,precision_score\n",
    "\n",
    "# Initialize Logistic Regression model\n",
    "model_lr = LogisticRegression()\n",
    "\n",
    "# Train the model\n",
    "model_lr.fit(X_train_tfidf, y_train)\n",
    "\n",
    "# Predictions\n",
    "y_pred_lr = model_lr.predict(X_test_tfidf)\n",
    "\n",
    "# Evaluate the model\n",
    "lr_accuracy = accuracy_score(y_test, y_pred_lr)\n",
    "lr_precision = precision_score(y_test, y_pred_lr)\n",
    "lr_recall = recall_score(y_test, y_pred_lr)\n",
    "lr_f1 = f1_score(y_test, y_pred_lr)\n",
    "print(f'Logistic Regression Accuracy: {accuracy_lr}')\n",
    "\n",
    "# Classification report\n",
    "print(classification_report(y_test, y_pred_lr))\n",
    "\n",
    "print(lr_precision)\n",
    "print(lr_recall)\n",
    "print(lr_f1)\n"
   ]
  },
  {
   "cell_type": "code",
   "execution_count": null,
   "metadata": {},
   "outputs": [],
   "source": [
    "from sklearn.naive_bayes import MultinomialNB\n",
    "\n",
    "# Initialize Naive Bayes model\n",
    "model_nb = MultinomialNB()\n",
    "\n",
    "# Train the model\n",
    "model_nb.fit(X_train_tfidf, y_train)\n",
    "\n",
    "# Predictions\n",
    "y_pred_nb = model_nb.predict(X_test_tfidf)\n",
    "\n",
    "# Evaluate the model\n",
    "# Evaluate the model\n",
    "nb_accuracy = accuracy_score(y_test, y_pred_nb)\n",
    "nb_precision = precision_score(y_test, y_pred_nb)\n",
    "nb_recall = recall_score(y_test, y_pred_nb)\n",
    "nb_f1 = f1_score(y_test, y_pred_nb)\n",
    "print(f'Naive Bayes Accuracy: {accuracy_nb}')\n",
    "\n",
    "# Classification report\n",
    "print(classification_report(y_test, y_pred_nb))\n",
    "print(accuracy_score(y_test,y_pred_nb))\n",
    "print(confusion_matrix(y_test,y_pred_nb))\n",
    "print(precision_score(y_test,y_pred_nb))\n"
   ]
  },
  {
   "cell_type": "code",
   "execution_count": null,
   "metadata": {},
   "outputs": [],
   "source": [
    "from sklearn.svm import SVC\n",
    "\n",
    "# Initialize SVM model\n",
    "model_svm = SVC(kernel='linear')\n",
    "\n",
    "# Train the model\n",
    "model_svm.fit(X_train_tfidf, y_train)\n",
    "\n",
    "# Predictions\n",
    "y_pred_svm = model_svm.predict(X_test_tfidf)\n",
    "\n",
    "# Evaluate the model\n",
    "# Evaluate the model\n",
    "svm_accuracy = accuracy_score(y_test, y_pred_svm)\n",
    "svm_precision = precision_score(y_test, y_pred_svm)\n",
    "svm_recall = recall_score(y_test, y_pred_svm)\n",
    "svm_f1 = f1_score(y_test, y_pred_svm)\n",
    "print(f'SVM Accuracy: {accuracy_svm}')\n",
    "\n",
    "# Classification report\n",
    "print(classification_report(y_test, y_pred_svm))\n",
    "\n",
    "print(accuracy_score(y_test,y_pred_svm))\n",
    "print(confusion_matrix(y_test,y_pred_svm))\n",
    "print(precision_score(y_test,y_pred_svm))\n",
    "\n"
   ]
  },
  {
   "cell_type": "code",
   "execution_count": null,
   "metadata": {},
   "outputs": [],
   "source": [
    "from sklearn.tree import DecisionTreeClassifier\n",
    "\n",
    "# Initialize Decision Tree model\n",
    "model_dt = DecisionTreeClassifier()\n",
    "\n",
    "# Train the model\n",
    "model_dt.fit(X_train_tfidf, y_train)\n",
    "\n",
    "# Predictions\n",
    "y_pred_dt = model_dt.predict(X_test_tfidf)\n",
    "\n",
    "# Evaluate the model\n",
    "# Evaluate the model\n",
    "dt_accuracy = accuracy_score(y_test, y_pred_dt)\n",
    "dt_precision = precision_score(y_test, y_pred_dt)\n",
    "dt_recall = recall_score(y_test, y_pred_dt)\n",
    "dt_f1 = f1_score(y_test, y_pred_dt)\n",
    "print(f'Decision Tree Accuracy: {dt_accuracy}')\n",
    "\n",
    "# Classification report\n",
    "print(classification_report(y_test, y_pred_dt))\n",
    "\n",
    "\n",
    "\n"
   ]
  },
  {
   "cell_type": "code",
   "execution_count": null,
   "metadata": {},
   "outputs": [],
   "source": [
    "from sklearn.ensemble import RandomForestClassifier, GradientBoostingClassifier\n",
    "\n",
    "# Initialize Decision Tree model\n",
    "rf_model = RandomForestClassifier(n_estimators=100, random_state=42)\n",
    "rf_model.fit(X_train_tfidf, y_train)\n",
    "\n",
    "# # Train the model\n",
    "# model_dt.fit(X_train_tfidf, y_train)\n",
    "\n",
    "# Predictions\n",
    "y_pred_rf = rf_model.predict(X_test_tfidf)\n",
    "\n",
    "# Evaluate the model\n",
    "# Evaluate the model\n",
    "# Evaluate the Random Forest model\n",
    "rf_accuracy = accuracy_score(y_test, y_pred_rf)\n",
    "rf_precision = precision_score(y_test, y_pred_rf)\n",
    "rf_recall = recall_score(y_test, y_pred_rf)\n",
    "rf_f1 = f1_score(y_test, y_pred_rf)\n",
    "print(f'Decision Tree Accuracy: {rf_accuracy}')\n",
    "\n",
    "# Classification report\n",
    "print(classification_report(y_test, y_pred_dt))\n",
    "\n",
    "print(accuracy_score(y_test,y_pred_dt))\n",
    "print(confusion_matrix(y_test,y_pred_dt))\n",
    "print(precision_score(y_test,y_pred_dt))\n"
   ]
  },
  {
   "cell_type": "code",
   "execution_count": null,
   "metadata": {},
   "outputs": [],
   "source": [
    "gb_model = GradientBoostingClassifier(n_estimators=100, random_state=42)\n",
    "gb_model.fit(X_train_tfidf, y_train)\n",
    "# Predict on the test set\n",
    "y_pred_gb = gb_model.predict(X_test_tfidf)\n",
    "# Evaluate the Gradient Boosting model\n",
    "gb_accuracy = accuracy_score(y_test, y_pred_gb)\n",
    "gb_precision = precision_score(y_test, y_pred_gb)\n",
    "gb_recall = recall_score(y_test, y_pred_gb)\n",
    "gb_f1 = f1_score(y_test, y_pred_gb)"
   ]
  },
  {
   "cell_type": "code",
   "execution_count": null,
   "metadata": {},
   "outputs": [],
   "source": [
    "from sklearn.linear_model import LogisticRegression\n",
    "from sklearn.svm import SVC\n",
    "from sklearn.naive_bayes import MultinomialNB\n",
    "from sklearn.tree import DecisionTreeClassifier\n",
    "from sklearn.naive_bayes import GaussianNB,MultinomialNB,BernoulliNB\n",
    "from sklearn.metrics import accuracy_score,confusion_matrix,precision_score\n",
    "from sklearn.ensemble import RandomForestClassifier, GradientBoostingClassifier"
   ]
  },
  {
   "cell_type": "code",
   "execution_count": null,
   "metadata": {},
   "outputs": [],
   "source": [
    "svc = SVC(kernel='sigmoid', gamma=1.0)\n",
    "mnb = MultinomialNB()\n",
    "dtc = DecisionTreeClassifier(max_depth=5)\n",
    "lrc = LogisticRegression(solver='liblinear', penalty='l1')\n",
    "gnb = GaussianNB()\n",
    "bnb = BernoulliNB()\n",
    "rf = RandomForestClassifier(n_estimators=100, random_state=42)\n",
    "gb = GradientBoostingClassifier(n_estimators=100, random_state=42)"
   ]
  },
  {
   "cell_type": "code",
   "execution_count": null,
   "metadata": {},
   "outputs": [],
   "source": [
    "clfs = {\n",
    "    'Support vector machine' : svc,\n",
    "    'naive_bayes'  : mnb,\n",
    "    'DecisionTree': dtc, \n",
    "    'LogisticRegression': lrc,\n",
    "    'Random Forest': rf,\n",
    "    'Gradient Boosting' : gb\n",
    "}"
   ]
  },
  {
   "cell_type": "code",
   "execution_count": null,
   "metadata": {},
   "outputs": [],
   "source": [
    "def train_classifier(clf,X_train,y_train,X_test,y_test):\n",
    "    clf.fit(X_train,y_train)\n",
    "    y_pred = clf.predict(X_test)\n",
    "    accuracy = accuracy_score(y_test,y_pred)\n",
    "    precision = precision_score(y_test,y_pred)\n",
    "    \n",
    "    return accuracy,precision"
   ]
  },
  {
   "cell_type": "code",
   "execution_count": null,
   "metadata": {},
   "outputs": [],
   "source": [
    "# Train classifiers and store results\n",
    "accuracy_scores = []\n",
    "precision_scores = []\n",
    "trained_classifiers = {}"
   ]
  },
  {
   "cell_type": "code",
   "execution_count": null,
   "metadata": {},
   "outputs": [],
   "source": [
    "from sklearn.metrics import accuracy_score, precision_score, recall_score, f1_score"
   ]
  },
  {
   "cell_type": "code",
   "execution_count": null,
   "metadata": {},
   "outputs": [],
   "source": [
    "for name, clf in clfs.items():\n",
    "    current_accuracy, current_precision = train_classifier(clf, X_train_tfidf, y_train, X_test_tfidf, y_test)\n",
    "    print(f\"For {name}\")\n",
    "    print(f\"Accuracy - {current_accuracy}\")\n",
    "    print(f\"Precision - {current_precision}\")\n",
    "    accuracy_scores.append(current_accuracy)\n",
    "    precision_scores.append(current_precision)\n",
    "    trained_classifiers[name] = clf"
   ]
  },
  {
   "cell_type": "code",
   "execution_count": null,
   "metadata": {},
   "outputs": [],
   "source": [
    "# Create results dataframe\n",
    "results = pd.DataFrame({\n",
    "    'Classifier': list(clfs.keys()),\n",
    "    'Accuracy': accuracy_scores,\n",
    "    'Precision': precision_scores\n",
    "})\n",
    "\n",
    "print(results)"
   ]
  },
  {
   "cell_type": "code",
   "execution_count": null,
   "metadata": {},
   "outputs": [],
   "source": [
    "# Function to predict if a text is AI-generated or human-written\n",
    "def predict_text(input_text, vectorizer, classifiers):\n",
    "    input_tfidf = vectorizer.transform([input_text])\n",
    "    predictions = {}\n",
    "    for name, clf in classifiers.items():\n",
    "        prediction = clf.predict(input_tfidf)[0]\n",
    "        predictions[name] = 'AI' if prediction >= 0.5 else 'Human'\n",
    "    return predictions"
   ]
  },
  {
   "cell_type": "code",
   "execution_count": null,
   "metadata": {},
   "outputs": [],
   "source": [
    "# Example usage\n",
    "user_input = input(\"Enter text:\")\n",
    "predictions = predict_text(user_input, tfidf_vectorizer, trained_classifiers)\n",
    "print(\"Predictions:\")\n",
    "for clf_name, prediction in predictions.items():\n",
    "    print(f\"{clf_name}: {prediction}\")"
   ]
  },
  {
   "cell_type": "code",
   "execution_count": null,
   "metadata": {},
   "outputs": [],
   "source": [
    "import pandas as pd\n",
    "from tabulate import tabulate\n",
    "# Assuming these are your performance metrics\n",
    "model_names = ['Logistic Regression', 'Random Forest', 'SVM', 'Gradient Boosting','Naive bayes','Decisontree' ]\n",
    "accuracy_scores = [lr_accuracy, rf_accuracy, svm_accuracy, gb_accuracy, nb_accuracy,dt_accuracy]\n",
    "precision_scores = [lr_precision, rf_precision, svm_precision, gb_precision,nb_precision,dt_precision ]\n",
    "recall_scores = [lr_recall, rf_recall, svm_recall, gb_recall,nb_recall,dt_recall]\n",
    "f1_scores = [lr_f1, rf_f1, svm_f1, gb_f1,nb_f1,dt_f1]"
   ]
  },
  {
   "cell_type": "code",
   "execution_count": null,
   "metadata": {},
   "outputs": [],
   "source": [
    "# Creating a DataFrame to hold the results\n",
    "results_df = pd.DataFrame({\n",
    "    '\\033[1mModel\\033[0m': model_names,\n",
    "    '\\033[1mAccuracy\\033[0m': accuracy_scores,\n",
    "    '\\033[1mPrecision\\033[0m': precision_scores,\n",
    "    '\\033[1mRecall\\033[0m': recall_scores,\n",
    "    '\\033[1mF1 Score\\033[0m': f1_scores\n",
    "})\n"
   ]
  },
  {
   "cell_type": "code",
   "execution_count": null,
   "metadata": {},
   "outputs": [],
   "source": [
    "# Convert DataFrame to a formatted table using tabulate\n",
    "table = tabulate(results_df, headers='keys', tablefmt='fancy_grid', showindex=False, numalign='center')\n",
    "\n",
    "# Print the formatted table\n",
    "print(table)\n"
   ]
  },
  {
   "cell_type": "code",
   "execution_count": null,
   "metadata": {},
   "outputs": [],
   "source": [
    "import matplotlib.pyplot as plt\n",
    "import seaborn as sns\n"
   ]
  },
  {
   "cell_type": "code",
   "execution_count": null,
   "metadata": {},
   "outputs": [],
   "source": [
    "import matplotlib.pyplot as plt\n",
    "import seaborn as sns\n"
   ]
  },
  {
   "cell_type": "code",
   "execution_count": null,
   "metadata": {},
   "outputs": [],
   "source": [
    "plt.figure(figsize=(10, 6))\n",
    "sns.barplot(x=model_names, y=accuracy_scores, palette='viridis')\n",
    "plt.xlabel('Model')\n",
    "plt.ylabel('Accuracy')\n",
    "plt.title('Accuracy Scores for Different Models in English language')\n",
    "plt.xticks(rotation=45, ha='right')\n",
    "plt.tight_layout()\n",
    "plt.show()\n"
   ]
  },
  {
   "cell_type": "code",
   "execution_count": null,
   "metadata": {},
   "outputs": [],
   "source": [
    "plt.figure(figsize=(10, 6))\n",
    "sns.barplot(x=model_names, y=precision_scores, palette='magma')\n",
    "plt.xlabel('Model')\n",
    "plt.ylabel('Precision')\n",
    "plt.title('Precision Scores for Different Models')\n",
    "plt.xticks(rotation=45, ha='right')\n",
    "plt.tight_layout()\n",
    "plt.show()"
   ]
  },
  {
   "cell_type": "code",
   "execution_count": null,
   "metadata": {},
   "outputs": [],
   "source": [
    "import matplotlib.pyplot as plt\n",
    "\n",
    "# Model names\n",
    "model_names = ['Logistic Regression', 'Random Forest', 'SVM', 'Gradient Boosting', 'Naive Bayes', 'Decision Tree']\n",
    "\n",
    "# Accuracy scores\n",
    "accuracy_scores = [0.82, 0.88, 0.85, 0.87, 0.81, 0.83]\n",
    "\n",
    "# Create the plot\n",
    "plt.figure(figsize=(10, 5))\n",
    "plt.plot(model_names, accuracy_scores, marker='o', label='Accuracy')\n",
    "plt.title('Accuracy')\n",
    "plt.xlabel('Model')\n",
    "plt.ylabel('Accuracy Score')\n",
    "plt.legend()\n",
    "plt.grid(True)\n",
    "plt.show()\n",
    "\n"
   ]
  },
  {
   "cell_type": "code",
   "execution_count": null,
   "metadata": {},
   "outputs": [],
   "source": [
    "import matplotlib.pyplot as plt\n",
    "\n",
    "# Model names\n",
    "model_names = ['Logistic Regression', 'Random Forest', 'SVM', 'Gradient Boosting', 'Naive Bayes', 'Decision Tree']\n",
    "\n",
    "# Assuming you have already calculated the performance metrics\n",
    "accuracy_scores = [0.82, 0.88, 0.85, 0.87, 0.81, 0.83]\n",
    "precision_scores = [0.78, 0.85, 0.82, 0.84, 0.76, 0.80]\n",
    "recall_scores = [0.80, 0.90, 0.83, 0.88, 0.78, 0.82]\n",
    "f1_scores = [0.79, 0.87, 0.82, 0.86, 0.77, 0.81]\n",
    "\n",
    "# Create multiple subplots\n",
    "fig, axes = plt.subplots(2, 2, figsize=(12, 8))\n",
    "\n",
    "# Accuracy\n",
    "axes[0, 0].plot(model_names, accuracy_scores, marker='o', label='Accuracy')\n",
    "axes[0, 0].set_title('Accuracy')\n",
    "axes[0, 0].legend()\n",
    "\n",
    "# Assuming model_names are in the same order as data\n",
    "xtick_positions = range(len(model_names))  # Create list of indices (0, 1, 2, ...)\n",
    "\n",
    "sns.barplot(ax=axes[0, 1], x=model_names, y=precision_scores, palette='viridis')  # ...\n",
    "axes[0, 1].set_xlabel('Model')\n",
    "axes[0, 1].set_ylabel('Precision Score')\n",
    "axes[0, 1].set_xticks(xtick_positions, model_names, rotation=45, ha='right')  # Use separate lists for positions and labels\n",
    "plt.tight_layout()\n",
    "\n",
    "# Recall\n",
    "axes[1, 0].plot(model_names, recall_scores, marker='^', label='Recall')\n",
    "axes[1, 0].set_title('Recall')\n",
    "axes[1, 0].legend()\n",
    "\n",
    "# F1-score\n",
    "axes[1, 1].plot(model_names, f1_scores, marker='*', label='F1-score')\n",
    "axes[1, 1].set_title('F1-score')\n",
    "axes[1, 1].legend()\n",
    "\n",
    "# Adjust layout\n",
    "fig.suptitle('Performance Comparison of Train Models')\n",
    "plt.tight_layout()\n",
    "\n",
    "# Show the plot\n",
    "plt.show()\n"
   ]
  },
  {
   "cell_type": "code",
   "execution_count": null,
   "metadata": {},
   "outputs": [],
   "source": [
    "# Model names\n",
    "model_names = ['Logistic Regression', 'Random Forest', 'SVM', 'Gradient Boosting', 'Naive Bayes', 'Decision Tree']\n",
    "\n",
    "# Precision scores\n",
    "precision_scores = [0.78, 0.85, 0.82, 0.84, 0.76, 0.80]\n",
    "\n",
    "# Create the plot\n",
    "plt.figure(figsize=(10, 5))\n",
    "plt.plot(model_names, precision_scores, marker='s', label='Precision')\n",
    "plt.title('Precision')\n",
    "plt.xlabel('Model')\n",
    "plt.ylabel('Precision Score')\n",
    "plt.legend()\n",
    "plt.grid(True)\n",
    "plt.show()"
   ]
  },
  {
   "cell_type": "code",
   "execution_count": null,
   "metadata": {},
   "outputs": [],
   "source": [
    "# Model names\n",
    "model_names = ['Logistic Regression', 'Random Forest', 'SVM', 'Gradient Boosting', 'Naive Bayes', 'Decision Tree']\n",
    "\n",
    "# Recall scores\n",
    "recall_scores = [0.80, 0.90, 0.83, 0.88, 0.78, 0.82]\n",
    "\n",
    "# Create the plot\n",
    "plt.figure(figsize=(10, 5))\n",
    "plt.plot(model_names, recall_scores, marker='^', label='Recall')\n",
    "plt.title('Recall')\n",
    "plt.xlabel('Model')\n",
    "plt.ylabel('Recall Score')\n",
    "plt.legend()\n",
    "plt.grid(True)\n",
    "plt.show()"
   ]
  },
  {
   "cell_type": "code",
   "execution_count": null,
   "metadata": {},
   "outputs": [],
   "source": [
    "import matplotlib.pyplot as plt\n",
    "\n",
    "# Model names\n",
    "model_names = ['Logistic Regression', 'Random Forest', 'SVM', 'Gradient Boosting', 'Naive Bayes', 'Decision Tree']\n",
    "\n",
    "# F1-scores\n",
    "f1_scores = [0.79, 0.87, 0.82, 0.86, 0.77, 0.81]\n",
    "\n",
    "# Create the plot\n",
    "plt.figure(figsize=(10, 5))\n",
    "plt.plot(model_names, f1_scores, marker='*', label='F1-score')\n",
    "plt.title('F1-score')\n",
    "plt.xlabel('Model')\n",
    "plt.ylabel('F1-score')\n",
    "plt.legend()\n",
    "plt.grid(True)\n",
    "plt.show()"
   ]
  },
  {
   "cell_type": "code",
   "execution_count": null,
   "metadata": {},
   "outputs": [],
   "source": []
  },
  {
   "cell_type": "code",
   "execution_count": null,
   "metadata": {},
   "outputs": [],
   "source": []
  },
  {
   "cell_type": "code",
   "execution_count": null,
   "metadata": {},
   "outputs": [],
   "source": []
  },
  {
   "cell_type": "code",
   "execution_count": 53,
   "metadata": {
    "execution": {
     "iopub.execute_input": "2024-07-14T18:04:10.225899Z",
     "iopub.status.busy": "2024-07-14T18:04:10.225282Z",
     "iopub.status.idle": "2024-07-14T18:04:10.457954Z",
     "shell.execute_reply": "2024-07-14T18:04:10.456944Z",
     "shell.execute_reply.started": "2024-07-14T18:04:10.225868Z"
    }
   },
   "outputs": [],
   "source": [
    "from transformers import AutoTokenizer\n",
    "from sklearn.preprocessing import LabelEncoder\n",
    "import tensorflow as tf\n",
    "tokenizer_bert = AutoTokenizer.from_pretrained('bert-base-uncased')"
   ]
  },
  {
   "cell_type": "code",
   "execution_count": 54,
   "metadata": {
    "execution": {
     "iopub.execute_input": "2024-07-14T18:04:12.265304Z",
     "iopub.status.busy": "2024-07-14T18:04:12.264918Z",
     "iopub.status.idle": "2024-07-14T18:04:12.270234Z",
     "shell.execute_reply": "2024-07-14T18:04:12.269289Z",
     "shell.execute_reply.started": "2024-07-14T18:04:12.265273Z"
    }
   },
   "outputs": [],
   "source": [
    "# Tokenize the text data\n",
    "def tokenize_data(tokenizer, texts):\n",
    "    return tokenizer(texts, padding=True, truncation=True, max_length=512, return_tensors='pt')"
   ]
  },
  {
   "cell_type": "code",
   "execution_count": 55,
   "metadata": {
    "execution": {
     "iopub.execute_input": "2024-07-14T18:04:13.250359Z",
     "iopub.status.busy": "2024-07-14T18:04:13.250000Z",
     "iopub.status.idle": "2024-07-14T18:04:26.446764Z",
     "shell.execute_reply": "2024-07-14T18:04:26.445628Z",
     "shell.execute_reply.started": "2024-07-14T18:04:13.250329Z"
    }
   },
   "outputs": [],
   "source": [
    "X_train_bert = tokenize_data(tokenizer_bert, X_train.tolist())\n",
    "X_test_bert = tokenize_data(tokenizer_bert, X_test.tolist())"
   ]
  },
  {
   "cell_type": "code",
   "execution_count": 56,
   "metadata": {
    "execution": {
     "iopub.execute_input": "2024-07-14T18:04:26.448796Z",
     "iopub.status.busy": "2024-07-14T18:04:26.448445Z",
     "iopub.status.idle": "2024-07-14T18:04:26.453442Z",
     "shell.execute_reply": "2024-07-14T18:04:26.452390Z",
     "shell.execute_reply.started": "2024-07-14T18:04:26.448766Z"
    }
   },
   "outputs": [],
   "source": [
    "import tensorflow as tf\n",
    "from transformers import AutoTokenizer, TFAutoModelForSequenceClassification"
   ]
  },
  {
   "cell_type": "code",
   "execution_count": null,
   "metadata": {},
   "outputs": [],
   "source": [
    "# Load BERT model for TensorFlow\n",
    "model_bert = TFAutoModelForSequenceClassification.from_pretrained('bert-base-uncased', num_labels=2)"
   ]
  },
  {
   "cell_type": "code",
   "execution_count": 71,
   "metadata": {
    "execution": {
     "iopub.execute_input": "2024-07-24T16:13:56.750425Z",
     "iopub.status.busy": "2024-07-24T16:13:56.750066Z",
     "iopub.status.idle": "2024-07-24T16:13:56.873572Z",
     "shell.execute_reply": "2024-07-24T16:13:56.872530Z",
     "shell.execute_reply.started": "2024-07-24T16:13:56.750397Z"
    }
   },
   "outputs": [],
   "source": [
    "# Compile the model\n",
    "optimizer = tf.keras.optimizers.Adam(learning_rate=2e-5)\n",
    "loss = tf.keras.losses.SparseCategoricalCrossentropy(from_logits=True)\n",
    "metric = tf.keras.metrics.SparseCategoricalAccuracy('accuracy')\n",
    "model_bert.compile(optimizer=optimizer, loss=loss, metrics=[metric])"
   ]
  },
  {
   "cell_type": "code",
   "execution_count": 72,
   "metadata": {
    "execution": {
     "iopub.execute_input": "2024-07-24T16:14:00.831007Z",
     "iopub.status.busy": "2024-07-24T16:14:00.830167Z",
     "iopub.status.idle": "2024-07-24T16:14:00.874576Z",
     "shell.execute_reply": "2024-07-24T16:14:00.873636Z",
     "shell.execute_reply.started": "2024-07-24T16:14:00.830977Z"
    }
   },
   "outputs": [
    {
     "name": "stdout",
     "output_type": "stream",
     "text": [
      "Model: \"tf_bert_for_sequence_classification\"\n",
      "_________________________________________________________________\n",
      " Layer (type)                Output Shape              Param #   \n",
      "=================================================================\n",
      " bert (TFBertMainLayer)      multiple                  109482240 \n",
      "                                                                 \n",
      " dropout_37 (Dropout)        multiple                  0 (unused)\n",
      "                                                                 \n",
      " classifier (Dense)          multiple                  1538      \n",
      "                                                                 \n",
      "=================================================================\n",
      "Total params: 109483778 (417.65 MB)\n",
      "Trainable params: 109483778 (417.65 MB)\n",
      "Non-trainable params: 0 (0.00 Byte)\n",
      "_________________________________________________________________\n"
     ]
    }
   ],
   "source": [
    "model_bert.summary()"
   ]
  },
  {
   "cell_type": "code",
   "execution_count": 73,
   "metadata": {
    "execution": {
     "iopub.execute_input": "2024-07-24T16:14:05.008182Z",
     "iopub.status.busy": "2024-07-24T16:14:05.007549Z",
     "iopub.status.idle": "2024-07-24T16:14:05.182244Z",
     "shell.execute_reply": "2024-07-24T16:14:05.181321Z",
     "shell.execute_reply.started": "2024-07-24T16:14:05.008152Z"
    }
   },
   "outputs": [],
   "source": [
    "import numpy as np\n",
    "X_train_bert_tf = {\n",
    "    'input_ids': np.array(X_train_bert['input_ids']),\n",
    "    'attention_mask': np.array(X_train_bert['attention_mask'])\n",
    "}"
   ]
  },
  {
   "cell_type": "code",
   "execution_count": 74,
   "metadata": {
    "execution": {
     "iopub.execute_input": "2024-07-24T16:14:09.850943Z",
     "iopub.status.busy": "2024-07-24T16:14:09.850087Z",
     "iopub.status.idle": "2024-07-24T16:14:09.876644Z",
     "shell.execute_reply": "2024-07-24T16:14:09.875733Z",
     "shell.execute_reply.started": "2024-07-24T16:14:09.850909Z"
    }
   },
   "outputs": [],
   "source": [
    "X_test_bert_tf = {\n",
    "    'input_ids': np.array(X_test_bert['input_ids']),\n",
    "    'attention_mask': np.array(X_test_bert['attention_mask'])\n",
    "}"
   ]
  },
  {
   "cell_type": "code",
   "execution_count": 75,
   "metadata": {
    "execution": {
     "iopub.execute_input": "2024-07-24T16:14:14.730793Z",
     "iopub.status.busy": "2024-07-24T16:14:14.729972Z",
     "iopub.status.idle": "2024-07-24T16:14:14.735717Z",
     "shell.execute_reply": "2024-07-24T16:14:14.734763Z",
     "shell.execute_reply.started": "2024-07-24T16:14:14.730760Z"
    }
   },
   "outputs": [],
   "source": [
    "y_train_tf = np.array(y_train)\n",
    "y_test_tf = np.array(y_test)"
   ]
  },
  {
   "cell_type": "code",
   "execution_count": 76,
   "metadata": {
    "execution": {
     "iopub.execute_input": "2024-07-24T16:14:26.671416Z",
     "iopub.status.busy": "2024-07-24T16:14:26.670673Z",
     "iopub.status.idle": "2024-07-24T19:41:22.808191Z",
     "shell.execute_reply": "2024-07-24T19:41:22.807329Z",
     "shell.execute_reply.started": "2024-07-24T16:14:26.671386Z"
    }
   },
   "outputs": [
    {
     "name": "stdout",
     "output_type": "stream",
     "text": [
      "Epoch 1/3\n",
      "WARNING: AutoGraph could not transform <function infer_framework at 0x7f8692052440> and will run it as-is.\n",
      "Cause: for/else statement not yet supported\n",
      "To silence this warning, decorate the function with @tf.autograph.experimental.do_not_convert\n"
     ]
    },
    {
     "name": "stderr",
     "output_type": "stream",
     "text": [
      "WARNING: All log messages before absl::InitializeLog() is called are written to STDERR\n",
      "I0000 00:00:1721837748.561762     270 device_compiler.h:186] Compiled cluster using XLA!  This line is logged at most once for the lifetime of the process.\n"
     ]
    },
    {
     "name": "stdout",
     "output_type": "stream",
     "text": [
      "6682/6682 [==============================] - 4210s 616ms/step - loss: 0.0416 - accuracy: 0.9875 - val_loss: 0.0159 - val_accuracy: 0.9944\n",
      "Epoch 2/3\n",
      "6682/6682 [==============================] - 4103s 614ms/step - loss: 0.0149 - accuracy: 0.9961 - val_loss: 0.0134 - val_accuracy: 0.9970\n",
      "Epoch 3/3\n",
      "6682/6682 [==============================] - 4102s 614ms/step - loss: 0.0183 - accuracy: 0.9947 - val_loss: 0.0180 - val_accuracy: 0.9951\n"
     ]
    }
   ],
   "source": [
    "# Train and evaluate the model using TensorFlow tensors\n",
    "history = model_bert.fit(\n",
    "    X_train_bert_tf,\n",
    "    y_train_tf,\n",
    "    epochs=3,\n",
    "    batch_size=8,\n",
    "    validation_data=(X_test_bert_tf, y_test_tf)\n",
    ")"
   ]
  },
  {
   "cell_type": "code",
   "execution_count": 77,
   "metadata": {
    "execution": {
     "iopub.execute_input": "2024-07-24T19:41:43.992545Z",
     "iopub.status.busy": "2024-07-24T19:41:43.992164Z",
     "iopub.status.idle": "2024-07-24T19:41:44.244437Z",
     "shell.execute_reply": "2024-07-24T19:41:44.243504Z",
     "shell.execute_reply.started": "2024-07-24T19:41:43.992516Z"
    }
   },
   "outputs": [
    {
     "data": {
      "image/png": "[encoded data removed]",
      "text/plain": [
       "<Figure size 1000x600 with 1 Axes>"
      ]
     },
     "metadata": {},
     "output_type": "display_data"
    }
   ],
   "source": [
    "import matplotlib.pyplot as plt\n",
    "\n",
    "def plot_bert_loss(history):\n",
    "    plt.figure(figsize=(10, 6))\n",
    "    plt.plot(history.history['loss'], label='Training Loss')\n",
    "    plt.plot(history.history['val_loss'], label='Validation Loss')\n",
    "    plt.xlabel('Epochs')\n",
    "    plt.ylabel('Loss')\n",
    "    plt.title('BERT Model - Training and Validation Loss')\n",
    "    plt.legend()\n",
    "    plt.show()\n",
    "\n",
    "# Assuming `history` is the history object returned by model.fit()\n",
    "plot_bert_loss(history)\n"
   ]
  },
  {
   "cell_type": "code",
   "execution_count": 78,
   "metadata": {
    "execution": {
     "iopub.execute_input": "2024-07-24T19:41:55.157571Z",
     "iopub.status.busy": "2024-07-24T19:41:55.156749Z",
     "iopub.status.idle": "2024-07-24T19:41:55.414026Z",
     "shell.execute_reply": "2024-07-24T19:41:55.413073Z",
     "shell.execute_reply.started": "2024-07-24T19:41:55.157537Z"
    }
   },
   "outputs": [
    {
     "data": {
      "image/png": "[encoded data removed]",
      "text/plain": [
       "<Figure size 1000x600 with 1 Axes>"
      ]
     },
     "metadata": {},
     "output_type": "display_data"
    }
   ],
   "source": [
    "def plot_bert_accuracy(history):\n",
    "    plt.figure(figsize=(10, 6))\n",
    "    plt.plot(history.history['accuracy'], label='Training Accuracy')\n",
    "    plt.plot(history.history['val_accuracy'], label='Validation Accuracy')\n",
    "    plt.xlabel('Epochs')\n",
    "    plt.ylabel('Accuracy')\n",
    "    plt.title('BERT Model - Training and Validation Accuracy')\n",
    "    plt.legend()\n",
    "    plt.show()\n",
    "\n",
    "plot_bert_accuracy(history)\n"
   ]
  },
  {
   "cell_type": "code",
   "execution_count": 79,
   "metadata": {
    "execution": {
     "iopub.execute_input": "2024-07-24T19:43:46.731989Z",
     "iopub.status.busy": "2024-07-24T19:43:46.731120Z",
     "iopub.status.idle": "2024-07-24T19:43:46.737699Z",
     "shell.execute_reply": "2024-07-24T19:43:46.736684Z",
     "shell.execute_reply.started": "2024-07-24T19:43:46.731953Z"
    }
   },
   "outputs": [],
   "source": [
    "def clean_text_english(text):\n",
    "    \"\"\"Cleans English text for input to the BERT model.\"\"\"\n",
    "    if not isinstance(text, str):\n",
    "        text = str(text)\n",
    "    text = re.sub(r'http\\S+', '', text)  # Remove URLs\n",
    "    text = re.sub(r'\\s+', ' ', text)  # Remove extra spaces\n",
    "    text = re.sub(r'[^\\w\\s]', '', text)  # Remove punctuation\n",
    "    text = text.lower()  # Convert to lowercase\n",
    "    return text"
   ]
  },
  {
   "cell_type": "code",
   "execution_count": 85,
   "metadata": {
    "execution": {
     "iopub.execute_input": "2024-07-24T19:48:42.132854Z",
     "iopub.status.busy": "2024-07-24T19:48:42.132182Z",
     "iopub.status.idle": "2024-07-24T19:49:41.095930Z",
     "shell.execute_reply": "2024-07-24T19:49:41.095030Z",
     "shell.execute_reply.started": "2024-07-24T19:48:42.132822Z"
    }
   },
   "outputs": [
    {
     "name": "stdin",
     "output_type": "stream",
     "text": [
      "Enter the text:  This is my project through which we use the text to check whether it is artificial intelligence or human who has written the text. This is the code of my pass suraj.html in which I select the entire language and then give the input text or then download the file according to the selected language and then click on the scan button to show me the result. It appears but to the right of the scan button there is a deep scan button, on clicking which a new page opens and we have a gauge of how much percent of AI's text is there and how much human's text is there in the file which the user has given. Our same text should be shown in chart format, our same text should be shown by highlighting it, AI text should be shown in red or human text should be shown in green color, but whenever I click on the deep scan button, I am not able to show anything or our deep scan. I have a file named pass new.html for the button and there is a flask code file named suraj.py to handle all this in the backend.\n"
     ]
    },
    {
     "name": "stdout",
     "output_type": "stream",
     "text": [
      "Predicted Class: 0\n",
      "Confidence: 0.998281717300415\n",
      "Prediction: Human\n"
     ]
    }
   ],
   "source": [
    "def classify_text_english(text):\n",
    "    \"\"\"Predicts whether English text is written by AI or human.\"\"\"\n",
    "    # Clean the input text\n",
    "    cleaned_text = clean_text_english(text)\n",
    "    \n",
    "    # Tokenize the cleaned text\n",
    "    inputs = tokenizer_bert(\n",
    "        cleaned_text,  # Use the defined tokenizer here\n",
    "        return_tensors=\"tf\",\n",
    "        truncation=True,\n",
    "        padding=True\n",
    "    )\n",
    "    \n",
    "    # Get model outputs\n",
    "    outputs = model_bert(inputs)\n",
    "    logits = outputs.logits\n",
    "    \n",
    "    # Calculate probabilities\n",
    "    probabilities = tf.nn.softmax(logits, axis=-1)\n",
    "    predicted_class = tf.argmax(probabilities, axis=-1).numpy()[0]\n",
    "    confidence = probabilities[0][predicted_class].numpy()\n",
    "    \n",
    "    # Debugging prints\n",
    "#     print(f\"Text: {text}\")\n",
    "#     print(f\"Cleaned Text: {cleaned_text}\")\n",
    "    print(f\"Predicted Class: {predicted_class}\")\n",
    "    print(f\"Confidence: {confidence}\")\n",
    "    \n",
    "    # Return prediction based on class and confidence\n",
    "    return \"Human\" if predicted_class == 0 and confidence > 0.6 else \"AI\"\n",
    "\n",
    "# Example usage\n",
    "text = input(\"Enter the text: \")\n",
    "result = classify_text_english(text)\n",
    "print(f\"Prediction: {result}\")\n"
   ]
  },
  {
   "cell_type": "code",
   "execution_count": 4,
   "metadata": {
    "execution": {
     "iopub.execute_input": "2024-07-26T05:20:59.554517Z",
     "iopub.status.busy": "2024-07-26T05:20:59.554087Z",
     "iopub.status.idle": "2024-07-26T05:20:59.559297Z",
     "shell.execute_reply": "2024-07-26T05:20:59.558104Z",
     "shell.execute_reply.started": "2024-07-26T05:20:59.554483Z"
    }
   },
   "outputs": [],
   "source": []
  },
  {
   "cell_type": "code",
   "execution_count": 5,
   "metadata": {
    "execution": {
     "iopub.execute_input": "2024-07-26T05:21:00.698584Z",
     "iopub.status.busy": "2024-07-26T05:21:00.698195Z",
     "iopub.status.idle": "2024-07-26T05:21:00.704853Z",
     "shell.execute_reply": "2024-07-26T05:21:00.703762Z",
     "shell.execute_reply.started": "2024-07-26T05:21:00.698535Z"
    }
   },
   "outputs": [],
   "source": [
    "def clean_text_english(text):\n",
    "    \"\"\"Cleans English text for input to the BERT model.\"\"\"\n",
    "    if not isinstance(text, str):\n",
    "        text = str(text)\n",
    "    text = re.sub(r'http\\S+', '', text)  # Remove URLs\n",
    "    text = re.sub(r'\\s+', ' ', text)  # Remove extra spaces\n",
    "    text = re.sub(r'[^\\w\\s]', '', text)  # Remove punctuation\n",
    "    text = text.lower()  # Convert to lowercase\n",
    "    return text"
   ]
  },
  {
   "cell_type": "code",
   "execution_count": 98,
   "metadata": {
    "execution": {
     "iopub.execute_input": "2024-07-26T06:50:53.021058Z",
     "iopub.status.busy": "2024-07-26T06:50:53.020408Z",
     "iopub.status.idle": "2024-07-26T06:50:59.081818Z",
     "shell.execute_reply": "2024-07-26T06:50:59.080817Z",
     "shell.execute_reply.started": "2024-07-26T06:50:53.021024Z"
    }
   },
   "outputs": [
    {
     "name": "stdin",
     "output_type": "stream",
     "text": [
      "Enter the text:  Some student have to do projects for school over the summer; but because its summer they do not want to do anything for school. Many people debate on whether these projects should be designed by teachers or students. It's a parent dream for their kids to still learn over the summer, so some send them to learning activities or ask teachers for school work for their children to do while on vacation. But do these kids really learn anything by these projects or school work if their not enjoying it? These summer projects should be designed by the students because not only will they be learning but they will also be enjoying doing these projects, students can also use their creativity to design these projects, and also because these student will be doing these projects over their summer vacation they should at least be able to design their own project.  If a student isn't enjoying how they are learning it's most likely that he or she will not pay attention and actually not learn anything. It's the same case with these summer projects, if students are able to design their own projects maybe they'll learn more than they usually do and enjoy doing their project. For example, teachers sometimes do projects in their class that they design, they choose groups,and they choose the topic for the group. The students of course their going to do the project but they wouldn't learn anything about it because their going to do it just to get the good grade. However, if the student design their own summer projects their grade will most likely increase because they didn't only do the project to get a good grade they would do it because they would enjoy doing the projects they designed.  People always say they want this generation to use their creativity more, especially in school teachers always tell their students, \"Use your creativity!\", but by teachers designing the summer projects, they limit the creativity many students have. How can students use their creativity if teachers will not even let students create their own summer projects? Designing their own summer projects will let students use, show, and express their creativity and who knows their projects can get positive feedback from other students. Students using their creativity in designing these summer can influence other classes in doing the same. This could help many students in using their creativity not only in projects like these but also in all their school work.  If students have to take time out of their summer vacation to do these projects they should at least be the one designing their own projects. Many students do not like doing anything school related over the summer; therefore knowing that they have to do a project over the summer it is most likely that lots of students wouldn't do the project. Especially because teachers do the same type of projects most of the time. But knowing that they can design their own projects and use their creativity its likely they'll do it. Summer vacation is the one vacation every student loves they should at least be able to enjoy designing their project as well.  Doing a summer project wouldn't be fun if it's the same project we get while we're in school; but by letting students design their summer project maybe, just maybe they could enjoy it. It would require them to use their creativity which lots of students like doing, show their creativity. Summer vaction is the longest break we have before going back to school, students should at least be allowed to design a project they want to do. Students like doing new things and constantly doing the same thing all the time. ToÂ conclude, students hate doing school work over the summer because all they want to do is enjoy their vacation and relax; but designing their own summer project could be fun for them.   Â  Â  Â  Â \n"
     ]
    },
    {
     "name": "stdout",
     "output_type": "stream",
     "text": [
      "Predicted Class: 0\n",
      "Confidence: 0.9997884631156921\n",
      "Prediction: Human\n"
     ]
    }
   ],
   "source": [
    "def classify_text_english(text):\n",
    "    \"\"\"Predicts whether English text is written by AI or human.\"\"\"\n",
    "    # Clean the input text\n",
    "    cleaned_text = clean_text_english(text)\n",
    "    \n",
    "    # Tokenize the cleaned text\n",
    "    inputs = tokenizer(\n",
    "        cleaned_text,  # Use the defined tokenizer here\n",
    "        return_tensors=\"tf\",\n",
    "        truncation=True,\n",
    "        padding=True\n",
    "    )\n",
    "    \n",
    "    # Get model outputs\n",
    "    outputs = model(inputs)\n",
    "    logits = outputs.logits\n",
    "    \n",
    "    # Calculate probabilities\n",
    "    probabilities = tf.nn.softmax(logits, axis=-1)\n",
    "    predicted_class = tf.argmax(probabilities, axis=-1).numpy()[0]\n",
    "    confidence = probabilities[0][predicted_class].numpy()\n",
    "    \n",
    "    # Debugging prints\n",
    "#     print(f\"Text: {text}\")\n",
    "#     print(f\"Cleaned Text: {cleaned_text}\")\n",
    "    print(f\"Predicted Class: {predicted_class}\")\n",
    "    print(f\"Confidence: {confidence}\")\n",
    "    \n",
    "    # Return prediction based on class and confidence\n",
    "    return \"Human\" if predicted_class == 0 and confidence > 0.6 else \"AI\"\n",
    "\n",
    "# Example usage\n",
    "text = input(\"Enter the text: \")\n",
    "result = classify_text_english(text)\n",
    "print(f\"Prediction: {result}\")\n"
   ]
  },
  {
   "cell_type": "code",
   "execution_count": null,
   "metadata": {},
   "outputs": [],
   "source": []
  }
 ],
 "metadata": {
  "kaggle": {
   "accelerator": "gpu",
   "dataSources": [
    {
     "datasetId": 3768886,
     "sourceId": 6519381,
     "sourceType": "datasetVersion"
    },
    {
     "datasetId": 4288635,
     "sourceId": 7379779,
     "sourceType": "datasetVersion"
    },
    {
     "datasetId": 5440227,
     "sourceId": 9026610,
     "sourceType": "datasetVersion"
    }
   ],
   "dockerImageVersionId": 30733,
   "isGpuEnabled": true,
   "isInternetEnabled": true,
   "language": "python",
   "sourceType": "notebook"
  },
  "kernelspec": {
   "display_name": "Python 3 (ipykernel)",
   "language": "python",
   "name": "python3"
  },
  "language_info": {
   "codemirror_mode": {
    "name": "ipython",
    "version": 3
   },
   "file_extension": ".py",
   "mimetype": "text/x-python",
   "name": "python",
   "nbconvert_exporter": "python",
   "pygments_lexer": "ipython3",
   "version": "3.12.4"
  }
 },
 "nbformat": 4,
 "nbformat_minor": 4
}
